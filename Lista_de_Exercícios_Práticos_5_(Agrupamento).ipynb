{
  "nbformat": 4,
  "nbformat_minor": 0,
  "metadata": {
    "colab": {
      "name": "Lista de Exercícios Práticos 5 (Agrupamento).ipynb",
      "provenance": [],
      "authorship_tag": "ABX9TyNgLQ2KsUNuvxFauMIdePAQ",
      "include_colab_link": true
    },
    "kernelspec": {
      "name": "python3",
      "display_name": "Python 3"
    },
    "language_info": {
      "name": "python"
    }
  },
  "cells": [
    {
      "cell_type": "markdown",
      "metadata": {
        "id": "view-in-github",
        "colab_type": "text"
      },
      "source": [
        "<a href=\"https://colab.research.google.com/github/anamueller/IA/blob/main/Lista_de_Exerc%C3%ADcios_Pr%C3%A1ticos_5_(Agrupamento).ipynb\" target=\"_parent\"><img src=\"https://colab.research.google.com/assets/colab-badge.svg\" alt=\"Open In Colab\"/></a>"
      ]
    },
    {
      "cell_type": "code",
      "metadata": {
        "colab": {
          "base_uri": "https://localhost:8080/"
        },
        "id": "ETa73IFedj9q",
        "outputId": "ea0b8128-ba2a-4e99-f819-7b44ca88d78c"
      },
      "source": [
        "import pandas as pd\n",
        "import numpy as np\n",
        "from sklearn import preprocessing\n",
        "from sklearn.cluster import KMeans\n",
        "from google.colab import drive\n",
        "drive.mount('/content/drive')"
      ],
      "execution_count": null,
      "outputs": [
        {
          "output_type": "stream",
          "text": [
            "Mounted at /content/drive\n"
          ],
          "name": "stdout"
        }
      ]
    },
    {
      "cell_type": "code",
      "metadata": {
        "id": "DGM5_qHBdiXb"
      },
      "source": [
        "ibge = pd.read_csv(\"/content/drive/MyDrive/ibge_completo.csv\")"
      ],
      "execution_count": null,
      "outputs": []
    },
    {
      "cell_type": "markdown",
      "metadata": {
        "id": "ujRdVeaWeyNW"
      },
      "source": [
        "#Exercício 3"
      ]
    },
    {
      "cell_type": "code",
      "metadata": {
        "colab": {
          "base_uri": "https://localhost:8080/",
          "height": 258
        },
        "id": "wKQfL0nLd0IO",
        "outputId": "e7c01f6b-b907-4a27-ab89-3823981f92db"
      },
      "source": [
        "ibge.head()"
      ],
      "execution_count": null,
      "outputs": [
        {
          "output_type": "execute_result",
          "data": {
            "text/html": [
              "<div>\n",
              "<style scoped>\n",
              "    .dataframe tbody tr th:only-of-type {\n",
              "        vertical-align: middle;\n",
              "    }\n",
              "\n",
              "    .dataframe tbody tr th {\n",
              "        vertical-align: top;\n",
              "    }\n",
              "\n",
              "    .dataframe thead th {\n",
              "        text-align: right;\n",
              "    }\n",
              "</style>\n",
              "<table border=\"1\" class=\"dataframe\">\n",
              "  <thead>\n",
              "    <tr style=\"text-align: right;\">\n",
              "      <th></th>\n",
              "      <th>Município com acento</th>\n",
              "      <th>Regiao</th>\n",
              "      <th>População 2010</th>\n",
              "      <th>Urbana</th>\n",
              "      <th>Rural</th>\n",
              "      <th>Área totalKm2</th>\n",
              "      <th>Densidade demográficaHab./Km2</th>\n",
              "      <th>Postos_Vacinação</th>\n",
              "    </tr>\n",
              "  </thead>\n",
              "  <tbody>\n",
              "    <tr>\n",
              "      <th>0</th>\n",
              "      <td>ADAMANTINA</td>\n",
              "      <td>RA de Presidente Prudente</td>\n",
              "      <td>33797</td>\n",
              "      <td>31948</td>\n",
              "      <td>1849</td>\n",
              "      <td>4114</td>\n",
              "      <td>8216</td>\n",
              "      <td>4</td>\n",
              "    </tr>\n",
              "    <tr>\n",
              "      <th>1</th>\n",
              "      <td>ADOLFO</td>\n",
              "      <td>RA de São José do Rio Preto</td>\n",
              "      <td>3557</td>\n",
              "      <td>3200</td>\n",
              "      <td>357</td>\n",
              "      <td>2111</td>\n",
              "      <td>1685</td>\n",
              "      <td>1</td>\n",
              "    </tr>\n",
              "    <tr>\n",
              "      <th>2</th>\n",
              "      <td>AGUAÍ</td>\n",
              "      <td>RA de Campinas</td>\n",
              "      <td>32148</td>\n",
              "      <td>29001</td>\n",
              "      <td>3147</td>\n",
              "      <td>4747</td>\n",
              "      <td>6772</td>\n",
              "      <td>5</td>\n",
              "    </tr>\n",
              "    <tr>\n",
              "      <th>3</th>\n",
              "      <td>ÁGUAS DA PRATA</td>\n",
              "      <td>RA de Campinas</td>\n",
              "      <td>7584</td>\n",
              "      <td>6771</td>\n",
              "      <td>813</td>\n",
              "      <td>1430</td>\n",
              "      <td>5305</td>\n",
              "      <td>1</td>\n",
              "    </tr>\n",
              "    <tr>\n",
              "      <th>4</th>\n",
              "      <td>ÁGUAS DE LINDÓIA</td>\n",
              "      <td>RA de Campinas</td>\n",
              "      <td>17266</td>\n",
              "      <td>17111</td>\n",
              "      <td>155</td>\n",
              "      <td>601</td>\n",
              "      <td>28716</td>\n",
              "      <td>4</td>\n",
              "    </tr>\n",
              "  </tbody>\n",
              "</table>\n",
              "</div>"
            ],
            "text/plain": [
              "  Município com acento  ... Postos_Vacinação\n",
              "0           ADAMANTINA  ...                4\n",
              "1               ADOLFO  ...                1\n",
              "2                AGUAÍ  ...                5\n",
              "3       ÁGUAS DA PRATA  ...                1\n",
              "4     ÁGUAS DE LINDÓIA  ...                4\n",
              "\n",
              "[5 rows x 8 columns]"
            ]
          },
          "metadata": {
            "tags": []
          },
          "execution_count": 4
        }
      ]
    },
    {
      "cell_type": "code",
      "metadata": {
        "id": "Is57Bxkie3zD"
      },
      "source": [
        "min_max_scaler = preprocessing.MinMaxScaler(feature_range=(0, 1))\n",
        "escalado = ibge.iloc[:, 2:8].values"
      ],
      "execution_count": null,
      "outputs": []
    },
    {
      "cell_type": "code",
      "metadata": {
        "id": "REK5hyc0fVZW"
      },
      "source": [
        "escalado = min_max_scaler.fit_transform(escalado)"
      ],
      "execution_count": null,
      "outputs": []
    },
    {
      "cell_type": "code",
      "metadata": {
        "colab": {
          "base_uri": "https://localhost:8080/"
        },
        "id": "PqKA0YDMgF_X",
        "outputId": "3cf4c2f9-0638-463a-bc47-9511254f7c5d"
      },
      "source": [
        "escalado"
      ],
      "execution_count": null,
      "outputs": [
        {
          "output_type": "execute_result",
          "data": {
            "text/plain": [
              "array([[2.93191908e-03, 2.80862579e-03, 1.82781562e-02, 2.05882353e-01,\n",
              "        6.26669447e-03, 4.25531915e-03],\n",
              "       [2.44563570e-04, 2.30726802e-04, 3.52909776e-03, 1.04310345e-01,\n",
              "        1.04831100e-03, 0.00000000e+00],\n",
              "       [2.78537645e-03, 2.54436155e-03, 3.11094416e-02, 2.37981744e-01,\n",
              "        5.11291316e-03, 5.67375887e-03],\n",
              "       ...,\n",
              "       [9.59805373e-03, 9.32878767e-03, 4.10245257e-02, 9.04158215e-02,\n",
              "        4.70413579e-02, 2.26950355e-02],\n",
              "       [7.45483439e-03, 7.32550871e-03, 2.34581204e-02, 2.12322515e-01,\n",
              "        1.56575475e-02, 2.55319149e-02],\n",
              "       [1.35967392e-04, 1.08413799e-04, 4.93282852e-03, 1.59077079e-01,\n",
              "        2.86847293e-04, 0.00000000e+00]])"
            ]
          },
          "metadata": {
            "tags": []
          },
          "execution_count": 7
        }
      ]
    },
    {
      "cell_type": "markdown",
      "metadata": {
        "id": "NAbB0Tbkg4iC"
      },
      "source": [
        "#Exercício 4a"
      ]
    },
    {
      "cell_type": "code",
      "metadata": {
        "id": "gjFU_JYkg6jV"
      },
      "source": [
        "#colunas Área totalKm2 e Densidade demográficaHab./Km2\n",
        "data = ibge.iloc[:, 5:7].values"
      ],
      "execution_count": null,
      "outputs": []
    },
    {
      "cell_type": "code",
      "metadata": {
        "id": "2BvUW2DMiUHr"
      },
      "source": [
        "#normalizando as colunas que serão utilizadas\n",
        "datascaled = min_max_scaler.fit_transform(data)"
      ],
      "execution_count": null,
      "outputs": []
    },
    {
      "cell_type": "code",
      "metadata": {
        "colab": {
          "base_uri": "https://localhost:8080/"
        },
        "id": "tXHnUC5whTiO",
        "outputId": "f9ae6af7-e758-45dd-c5c6-4e44b0d99280"
      },
      "source": [
        "#rodando kmeans com k=20\n",
        "kmeans20 = KMeans(n_clusters=20, random_state=0).fit(datascaled)\n",
        "re20 = kmeans20.labels_\n",
        "hist,bin_edges = np.histogram(re20, range=(0, re20.max()), bins=re20.max() + 1)\n",
        "print(hist)"
      ],
      "execution_count": null,
      "outputs": [
        {
          "output_type": "stream",
          "text": [
            "[103  24   3  50   5   8  63   1   4  37  16   4 111   2  18  92   8   7\n",
            "  40  49]\n"
          ],
          "name": "stdout"
        }
      ]
    },
    {
      "cell_type": "code",
      "metadata": {
        "colab": {
          "base_uri": "https://localhost:8080/",
          "height": 525
        },
        "id": "u2pjz-MxK6uL",
        "outputId": "c3dff2ea-ed94-4c09-838a-8fecdc2d03ad"
      },
      "source": [
        "import matplotlib.pyplot as plt\n",
        "\n",
        "plt.figure(figsize=[10,8])\n",
        "\n",
        "plt.bar(bin_edges[:-1], hist, width = 0.25, color='#7209B7',alpha=0.5)\n",
        "plt.xlim(min(bin_edges)-1, max(bin_edges))\n",
        "plt.grid(axis='y', alpha=0.75)\n",
        "plt.xlabel('Cluster',fontsize=15)\n",
        "plt.ylabel('Frequencia',fontsize=15)\n",
        "plt.xticks(fontsize=15)\n",
        "plt.yticks(fontsize=15)\n",
        "plt.ylabel('Frequency',fontsize=15)\n",
        "plt.title('Histograma dos Clusters',fontsize=15)\n",
        "plt.show()"
      ],
      "execution_count": null,
      "outputs": [
        {
          "output_type": "display_data",
          "data": {
            "image/png": "[encoded data removed]",
            "text/plain": [
              "<Figure size 720x576 with 1 Axes>"
            ]
          },
          "metadata": {
            "tags": [],
            "needs_background": "light"
          }
        }
      ]
    },
    {
      "cell_type": "code",
      "metadata": {
        "colab": {
          "base_uri": "https://localhost:8080/"
        },
        "id": "cahgg1qVijiw",
        "outputId": "f964d4e0-bbc3-4b27-b760-564d1180d1f6"
      },
      "source": [
        "#rodando kmeans com k=50\n",
        "kmeans50 = KMeans(n_clusters=50, random_state=0).fit(datascaled)\n",
        "re50 = kmeans50.labels_\n",
        "hist2,bin_edges2 = np.histogram(re50, range=(0, re50.max()), bins=re50.max() + 1)\n",
        "print(hist2)"
      ],
      "execution_count": null,
      "outputs": [
        {
          "output_type": "stream",
          "text": [
            "[28  7  3 19  5  1 46  2 18  1 13  3 30  4  2 13  4 25 13 33  5 46  4  1\n",
            " 56  1  4 10 15  1  9  9  9  2  3 30 25  6  5 18 30  2  2  1  1  2 14 13\n",
            " 18 33]\n"
          ],
          "name": "stdout"
        }
      ]
    },
    {
      "cell_type": "code",
      "metadata": {
        "colab": {
          "base_uri": "https://localhost:8080/",
          "height": 525
        },
        "id": "lMT4DuojKuPm",
        "outputId": "85e2882d-fca1-4f7c-f0cd-d2387b73f24f"
      },
      "source": [
        "plt.figure(figsize=[14,8])\n",
        "\n",
        "plt.bar(bin_edges2[:-1], hist2, width = 0.6, color='#0096C7',alpha=0.5)\n",
        "plt.xlim(min(bin_edges2)-1, max(bin_edges2))\n",
        "plt.grid(axis='y', alpha=0.75)\n",
        "plt.xlabel('Cluster',fontsize=15)\n",
        "plt.ylabel('Frequencia',fontsize=15)\n",
        "plt.xticks(fontsize=15)\n",
        "plt.yticks(fontsize=15)\n",
        "plt.ylabel('Frequency',fontsize=15)\n",
        "plt.title('Histograma dos Clusters',fontsize=15)\n",
        "plt.show()"
      ],
      "execution_count": null,
      "outputs": [
        {
          "output_type": "display_data",
          "data": {
            "image/png": "[encoded data removed]",
            "text/plain": [
              "<Figure size 1008x576 with 1 Axes>"
            ]
          },
          "metadata": {
            "tags": [],
            "needs_background": "light"
          }
        }
      ]
    },
    {
      "cell_type": "markdown",
      "metadata": {
        "id": "QAe9k841kwYA"
      },
      "source": [
        "Pelos gráficos vemos que a diferença entre a quantidade de cidades em cada cluster diminui (temos uma variação menor) quando k=50, o que faz sentido pois com mais grupos disponíveis para separar as cidades teremos grupos mais específicos então as cidades estarão melhor distribuídas. Não há uma mudança muito grande porém perceptível."
      ]
    },
    {
      "cell_type": "code",
      "metadata": {
        "colab": {
          "base_uri": "https://localhost:8080/"
        },
        "id": "Bdul3kAHld9V",
        "outputId": "8fde1d30-f07d-4513-c934-5c2ad2600df0"
      },
      "source": [
        "#rodando kmeans com k=200\n",
        "kmeans100 = KMeans(n_clusters=200, random_state=0).fit(datascaled)\n",
        "re100 = kmeans100.labels_\n",
        "hist6,bin_edges6 = np.histogram(re100, range=(0, re100.max()), bins=re100.max() + 1)\n",
        "print(hist6)"
      ],
      "execution_count": null,
      "outputs": [
        {
          "output_type": "stream",
          "text": [
            "[ 5  4  1  1 10  1  2 11  1  1  2  3  1  1  1  4  9  1  3  2  1  1  3 12\n",
            "  7  3  1  1  3  2  1 11  1  5  1  1 10  1  1  1  1  1  5  1  1  1  2  6\n",
            "  1  1  1  1  2  1  2  3  1 12  2  2  3  2  1  7  2  2  3  3  1  1  1  1\n",
            "  8  3  8  1  1  1  2  1  2  1  2  6  2  7  8 11  1  4  4  1  5  6  5  7\n",
            "  3  2  3  5  1 11  2  2  1  1  4  2  3  9  8  1  1  1  4 12  2  3  1  3\n",
            "  7  1  1  4  2  2  3  5  3  4  1  1  3  1  1  5  1  1  4  5  5  9  1  5\n",
            "  1  1  3  2  1  2  3  6  1  3  5  1  2  1  1  7  8  1  1  3  6  1  2  6\n",
            "  1  3  3  1  1  3 10  2 12  4  1  1  4  1  9  4  1  1  1  1 11  1  3  5\n",
            "  1  9  3  3 10  3  1  1]\n"
          ],
          "name": "stdout"
        }
      ]
    },
    {
      "cell_type": "code",
      "metadata": {
        "colab": {
          "base_uri": "https://localhost:8080/",
          "height": 525
        },
        "id": "cTNR80ZslpCV",
        "outputId": "d4a39ea1-9802-41c3-8309-35284bedb4bd"
      },
      "source": [
        "plt.figure(figsize=[14,8])\n",
        "\n",
        "plt.bar(bin_edges6[:-1], hist6, width = 0.6, color='#0096C7',alpha=0.5)\n",
        "plt.xlim(min(bin_edges6)-1, max(bin_edges6))\n",
        "plt.grid(axis='y', alpha=0.75)\n",
        "plt.xlabel('Cluster',fontsize=15)\n",
        "plt.ylabel('Frequencia',fontsize=15)\n",
        "plt.xticks(fontsize=15)\n",
        "plt.yticks(fontsize=15)\n",
        "plt.ylabel('Frequency',fontsize=15)\n",
        "plt.title('Histograma dos Clusters',fontsize=15)\n",
        "plt.show()"
      ],
      "execution_count": null,
      "outputs": [
        {
          "output_type": "display_data",
          "data": {
            "image/png": "[encoded data removed]",
            "text/plain": [
              "<Figure size 1008x576 with 1 Axes>"
            ]
          },
          "metadata": {
            "tags": [],
            "needs_background": "light"
          }
        }
      ]
    },
    {
      "cell_type": "markdown",
      "metadata": {
        "id": "4yTHp7MKmLEG"
      },
      "source": [
        "Como podemos ver no gráfico acima quando aumentamos muito o K (nesse caso = 200), começamos a ter clusters com quantidades mais próximas."
      ]
    },
    {
      "cell_type": "markdown",
      "metadata": {
        "id": "tzCwGS3LiyKO"
      },
      "source": [
        "#Exercício 4b\n"
      ]
    },
    {
      "cell_type": "code",
      "metadata": {
        "colab": {
          "base_uri": "https://localhost:8080/"
        },
        "id": "tKur1pFfi050",
        "outputId": "39003258-6f4c-49f9-afa6-b8776e53dfaa"
      },
      "source": [
        "#utilizar o df escalado(possui os 6 atributos ja escalados)\n",
        "#rodando kmeans com k=20\n",
        "kmeans20_2 = KMeans(n_clusters=20, random_state=0).fit(escalado)\n",
        "re20_2 = kmeans20_2.labels_\n",
        "hist3,bin_edges3 = np.histogram(re20_2, range=(0, re20_2.max()), bins=re20_2.max() + 1)\n",
        "print(hist3)"
      ],
      "execution_count": null,
      "outputs": [
        {
          "output_type": "stream",
          "text": [
            "[ 58 137   8   5   1  27   8  53  50 127  12   4   1  20  18   1 102   3\n",
            "   7   3]\n"
          ],
          "name": "stdout"
        }
      ]
    },
    {
      "cell_type": "code",
      "metadata": {
        "colab": {
          "base_uri": "https://localhost:8080/",
          "height": 525
        },
        "id": "NcflWIMhMiUS",
        "outputId": "ebac82ba-f6c7-44d0-a590-72109c5971b2"
      },
      "source": [
        "plt.figure(figsize=[10,8])\n",
        "\n",
        "plt.bar(bin_edges3[:-1], hist3, width = 0.6, color='#1cff91',alpha=0.5)\n",
        "plt.xlim(min(bin_edges3)-1, max(bin_edges3))\n",
        "plt.grid(axis='y', alpha=0.75)\n",
        "plt.xlabel('Cluster',fontsize=15)\n",
        "plt.ylabel('Frequencia',fontsize=15)\n",
        "plt.xticks(fontsize=15)\n",
        "plt.yticks(fontsize=15)\n",
        "plt.ylabel('Frequency',fontsize=15)\n",
        "plt.title('Histograma dos Clusters',fontsize=15)\n",
        "plt.show()"
      ],
      "execution_count": null,
      "outputs": [
        {
          "output_type": "display_data",
          "data": {
            "image/png": "[encoded data removed]",
            "text/plain": [
              "<Figure size 720x576 with 1 Axes>"
            ]
          },
          "metadata": {
            "tags": [],
            "needs_background": "light"
          }
        }
      ]
    },
    {
      "cell_type": "code",
      "metadata": {
        "colab": {
          "base_uri": "https://localhost:8080/"
        },
        "id": "RXc8hrtAjCXc",
        "outputId": "7529eaa4-a88a-45d4-c3b1-915d4b7e0fd7"
      },
      "source": [
        "#rodando kmeans com k=50\n",
        "kmeans50_2 = KMeans(n_clusters=50, random_state=0).fit(escalado)\n",
        "re50_2 = kmeans50_2.labels_\n",
        "hist4,bin_edges4 = np.histogram(re50_2, range=(0, re50_2.max()), bins=re50_2.max() + 1)\n",
        "print(hist4)"
      ],
      "execution_count": null,
      "outputs": [
        {
          "output_type": "stream",
          "text": [
            "[50 16  1  6  1 33  1 19  2  3  9  2 73  1  5  1  2 12  1  2 14 10 15 24\n",
            "  3 47  8 81  7  9  1  1 19  4  5  1 12 21  7  7  3  2  3  4 65  1  2  2\n",
            "  5 22]\n"
          ],
          "name": "stdout"
        }
      ]
    },
    {
      "cell_type": "code",
      "metadata": {
        "colab": {
          "base_uri": "https://localhost:8080/",
          "height": 525
        },
        "id": "w9qLvmGvMqV_",
        "outputId": "8a016469-e8b3-4956-d681-64e2e302e11c"
      },
      "source": [
        "plt.figure(figsize=[14,8])\n",
        "\n",
        "plt.bar(bin_edges4[:-1], hist4, width = 0.6, color='#ff1c42',alpha=0.5)\n",
        "plt.xlim(min(bin_edges4)-1, max(bin_edges4))\n",
        "plt.grid(axis='y', alpha=0.75)\n",
        "plt.xlabel('Cluster',fontsize=15)\n",
        "plt.ylabel('Frequencia',fontsize=15)\n",
        "plt.xticks(fontsize=15)\n",
        "plt.yticks(fontsize=15)\n",
        "plt.ylabel('Frequency',fontsize=15)\n",
        "plt.title('Histograma dos Clusters',fontsize=15)\n",
        "plt.show()"
      ],
      "execution_count": null,
      "outputs": [
        {
          "output_type": "display_data",
          "data": {
            "image/png": "[encoded data removed]",
            "text/plain": [
              "<Figure size 1008x576 with 1 Axes>"
            ]
          },
          "metadata": {
            "tags": [],
            "needs_background": "light"
          }
        }
      ]
    },
    {
      "cell_type": "markdown",
      "metadata": {
        "id": "iZueEPMRlKKT"
      },
      "source": [
        "Pelos gráficos vemos que a diferença entre a quantidade de cidades em cada cluster diminui (temos uma variação menor) quando k=50, o que faz sentido pois com mais grupos disponíveis para separar as cidades teremos grupos mais específicos então as cidades estarão melhor distribuídas. Não há uma mudança muito grande porém perceptível."
      ]
    },
    {
      "cell_type": "code",
      "metadata": {
        "colab": {
          "base_uri": "https://localhost:8080/"
        },
        "id": "6TO0FkFpmWbk",
        "outputId": "2556f3b7-50f3-4948-8e9e-5a0293b695fb"
      },
      "source": [
        "#rodando kmeans com k=200\n",
        "kmeans200_2 = KMeans(n_clusters=200, random_state=0).fit(escalado)\n",
        "re200_2 = kmeans200_2.labels_\n",
        "hist7,bin_edges7 = np.histogram(re200_2, range=(0, re200_2.max()), bins=re200_2.max() + 1)\n",
        "print(hist7)"
      ],
      "execution_count": null,
      "outputs": [
        {
          "output_type": "stream",
          "text": [
            "[22  3  1  1  4  2  1  1  5  6 31  1  3  1  2  1  6  1  3  2  4  1  1 10\n",
            "  4  1  1  1  1  1  6  1  1  1  1  2  1 10  1  5  1  1  1  1  1  1  1  3\n",
            "  2  1  1  1  1 13  1  4  2  4  1  1  1  3  1  4  1  2  1  2  3  7  1  1\n",
            " 19  2  1  2  3  1  1  1  6  2  1  1  1  6  2  4  7 22  4  2  3  1 20  2\n",
            "  1  4  1 18  4  2  1  4  2  1  1  1  1  1  1  2  1  6  1  1  2  1  8  1\n",
            "  2  3  2  5  1  1 18  1  1  1  1  1  1  2  1  5  5  1  1  1  1 16  2  2\n",
            "  2  1 24  1  2  1 13  4  3  1  1  1  8  5  2  1  1  1  8  1  7  2  4  1\n",
            "  3  1  2  5  1  2  1  2  4  2  2  2  1  1  4  1  1  1  6  1  1  5  1  3\n",
            "  4  8  1  4  2  1  1  1]\n"
          ],
          "name": "stdout"
        }
      ]
    },
    {
      "cell_type": "code",
      "metadata": {
        "colab": {
          "base_uri": "https://localhost:8080/",
          "height": 525
        },
        "id": "jcvXLBNVmoFR",
        "outputId": "02f96509-8191-4306-d6df-7e4890a6de8e"
      },
      "source": [
        "plt.figure(figsize=[14,8])\n",
        "\n",
        "plt.bar(bin_edges7[:-1], hist7, width = 0.6, color='#ff1c42',alpha=0.5)\n",
        "plt.xlim(min(bin_edges7)-1, max(bin_edges7))\n",
        "plt.grid(axis='y', alpha=0.75)\n",
        "plt.xlabel('Cluster',fontsize=15)\n",
        "plt.ylabel('Frequencia',fontsize=15)\n",
        "plt.xticks(fontsize=15)\n",
        "plt.yticks(fontsize=15)\n",
        "plt.ylabel('Frequency',fontsize=15)\n",
        "plt.title('Histograma dos Clusters',fontsize=15)\n",
        "plt.show()"
      ],
      "execution_count": null,
      "outputs": [
        {
          "output_type": "display_data",
          "data": {
            "image/png": "[encoded data removed]",
            "text/plain": [
              "<Figure size 1008x576 with 1 Axes>"
            ]
          },
          "metadata": {
            "tags": [],
            "needs_background": "light"
          }
        }
      ]
    },
    {
      "cell_type": "markdown",
      "metadata": {
        "id": "DfyH926Wm6wc"
      },
      "source": [
        "Podemos ver que a diferença está diminuindo porém menos do que quando estávamos usando somente 2 atributos, logo a \"rapidez\" com que quando temos menos atributos será maior, algo que não foge muito do raciocínio lógica pois com mais atributos há mais coisas para se analisar e dividir em grupos logo para se assemelharem em quantidade precisariamos de mais grupos para cada vez mais diminuirmos as diferenças."
      ]
    },
    {
      "cell_type": "markdown",
      "metadata": {
        "id": "X5k_qfNqUlA1"
      },
      "source": [
        "#Análise"
      ]
    },
    {
      "cell_type": "markdown",
      "metadata": {
        "id": "FnQHZ2BWgSg0"
      },
      "source": [
        "Como podemos ver pelos gráficos abaixo a região da cidade não influencia em qual cluster a cidade estrá em nenhum das 4 simulações feita (com 2 atributos e k={20,50} e com 6 atributos e k={20,50}). Porém como vemos a densidade demográfica tem uma grande influência no cluster em qual a cidade se encontra em todas as 4 simulações feitas, podemos ver que uma pequena mudança de densidade demográfica faz com que a cidade esteja em um cluster diferente. Por exemplo como vemos com as cidades de Diadema, Taboão da Serra e Carapicuíba; Diadema e Taboão da Serra possuem uma diferença de aproximadamente 46 enquanto que Diadema e Carapicuíba possuem aproximadamente 183, uma diferença superior de 137, que é suficiente para fazer com que a cidade se encontre em um cluster diferente e relativamente distante (13 e 3 respectivamente). Isso acontece em todas na primeira simulação (com 2 atributos e k=20) porém na segunda simulação (com 2 atributos e k=50) a tolerância parece diminuir pois Carapicuíba, Osasco e São Caetano do Sul estão no mesmo cluster na primeria simulação e São Caetao do Sul não se encontra no mesmo cluster do que das outras cidades na segunda simulação (com uma grande diferença sendo as duas cidades no cluster 33 e São Caetano do Sul no cluster 5). Na terceira simulação (com 6 atributos e k=20) a tolerância de diferença parece aumentar pois todas as 5 cidades se encontram no mesmo cluster. Na quarta simulação (com 6 atributos e k=50) ocorre o mesmo que tinha acontecido na segunda simulção e novamente com uma grande diferença (41 e 4). Essa diferença na segunda e quarta simulação pode ocorrer devido ao aumento do K, pois como teremos mais cluster pode-se \"filtrar\" mais as cidades. A situação da terceira simulação pode ser por causa do aumento de atributos e com um K menor, ou seja temos mais coisas para dividir as cidades e menos grupos logo será mais fácil cidades com características similares se encontrarem no mesmo grupo, ao aumentarmos esse grupo temos a situação da quarta simulação."
      ]
    },
    {
      "cell_type": "code",
      "metadata": {
        "colab": {
          "base_uri": "https://localhost:8080/",
          "height": 476
        },
        "id": "P_gLml3JVmOV",
        "outputId": "1db574ab-a24c-40e4-c01b-6f81c7d6ce25"
      },
      "source": [
        "ibge.sort_values('Densidade demográficaHab./Km2', ascending=False)"
      ],
      "execution_count": null,
      "outputs": [
        {
          "output_type": "execute_result",
          "data": {
            "text/html": [
              "<div>\n",
              "<style scoped>\n",
              "    .dataframe tbody tr th:only-of-type {\n",
              "        vertical-align: middle;\n",
              "    }\n",
              "\n",
              "    .dataframe tbody tr th {\n",
              "        vertical-align: top;\n",
              "    }\n",
              "\n",
              "    .dataframe thead th {\n",
              "        text-align: right;\n",
              "    }\n",
              "</style>\n",
              "<table border=\"1\" class=\"dataframe\">\n",
              "  <thead>\n",
              "    <tr style=\"text-align: right;\">\n",
              "      <th></th>\n",
              "      <th>Município com acento</th>\n",
              "      <th>Regiao</th>\n",
              "      <th>População 2010</th>\n",
              "      <th>Urbana</th>\n",
              "      <th>Rural</th>\n",
              "      <th>Área totalKm2</th>\n",
              "      <th>Densidade demográficaHab./Km2</th>\n",
              "      <th>Postos_Vacinação</th>\n",
              "    </tr>\n",
              "  </thead>\n",
              "  <tbody>\n",
              "    <tr>\n",
              "      <th>153</th>\n",
              "      <td>DIADEMA</td>\n",
              "      <td>RM de São Paulo</td>\n",
              "      <td>386089</td>\n",
              "      <td>386089</td>\n",
              "      <td>0</td>\n",
              "      <td>308</td>\n",
              "      <td>1251910</td>\n",
              "      <td>25</td>\n",
              "    </tr>\n",
              "    <tr>\n",
              "      <th>590</th>\n",
              "      <td>TABOÃO DA SERRA</td>\n",
              "      <td>RM de São Paulo</td>\n",
              "      <td>244528</td>\n",
              "      <td>244528</td>\n",
              "      <td>0</td>\n",
              "      <td>203</td>\n",
              "      <td>1204990</td>\n",
              "      <td>21</td>\n",
              "    </tr>\n",
              "    <tr>\n",
              "      <th>121</th>\n",
              "      <td>CARAPICUÍBA</td>\n",
              "      <td>RM de São Paulo</td>\n",
              "      <td>369584</td>\n",
              "      <td>369584</td>\n",
              "      <td>0</td>\n",
              "      <td>346</td>\n",
              "      <td>1068010</td>\n",
              "      <td>17</td>\n",
              "    </tr>\n",
              "    <tr>\n",
              "      <th>389</th>\n",
              "      <td>OSASCO</td>\n",
              "      <td>RM de São Paulo</td>\n",
              "      <td>666740</td>\n",
              "      <td>666740</td>\n",
              "      <td>0</td>\n",
              "      <td>640</td>\n",
              "      <td>1041180</td>\n",
              "      <td>61</td>\n",
              "    </tr>\n",
              "    <tr>\n",
              "      <th>547</th>\n",
              "      <td>SÃO CAETANO DO SUL</td>\n",
              "      <td>RM de São Paulo</td>\n",
              "      <td>149263</td>\n",
              "      <td>149263</td>\n",
              "      <td>0</td>\n",
              "      <td>154</td>\n",
              "      <td>970879</td>\n",
              "      <td>21</td>\n",
              "    </tr>\n",
              "    <tr>\n",
              "      <th>...</th>\n",
              "      <td>...</td>\n",
              "      <td>...</td>\n",
              "      <td>...</td>\n",
              "      <td>...</td>\n",
              "      <td>...</td>\n",
              "      <td>...</td>\n",
              "      <td>...</td>\n",
              "      <td>...</td>\n",
              "    </tr>\n",
              "    <tr>\n",
              "      <th>372</th>\n",
              "      <td>NOVA CASTILHO</td>\n",
              "      <td>RA de Araçatuba</td>\n",
              "      <td>1125</td>\n",
              "      <td>746</td>\n",
              "      <td>379</td>\n",
              "      <td>1832</td>\n",
              "      <td>614</td>\n",
              "      <td>1</td>\n",
              "    </tr>\n",
              "    <tr>\n",
              "      <th>539</th>\n",
              "      <td>SANTO ANTÔNIO DO ARACANGUÁ</td>\n",
              "      <td>RA de Araçatuba</td>\n",
              "      <td>7626</td>\n",
              "      <td>5971</td>\n",
              "      <td>1655</td>\n",
              "      <td>13082</td>\n",
              "      <td>583</td>\n",
              "      <td>3</td>\n",
              "    </tr>\n",
              "    <tr>\n",
              "      <th>316</th>\n",
              "      <td>LUTÉCIA</td>\n",
              "      <td>RA de Marília</td>\n",
              "      <td>2714</td>\n",
              "      <td>2158</td>\n",
              "      <td>556</td>\n",
              "      <td>4749</td>\n",
              "      <td>571</td>\n",
              "      <td>1</td>\n",
              "    </tr>\n",
              "    <tr>\n",
              "      <th>324</th>\n",
              "      <td>MARABÁ PAULISTA</td>\n",
              "      <td>RA de Presidente Prudente</td>\n",
              "      <td>4812</td>\n",
              "      <td>2142</td>\n",
              "      <td>2670</td>\n",
              "      <td>9177</td>\n",
              "      <td>524</td>\n",
              "      <td>4</td>\n",
              "    </tr>\n",
              "    <tr>\n",
              "      <th>245</th>\n",
              "      <td>IPORANGA</td>\n",
              "      <td>RA de Itapeva</td>\n",
              "      <td>4299</td>\n",
              "      <td>2401</td>\n",
              "      <td>1898</td>\n",
              "      <td>11521</td>\n",
              "      <td>373</td>\n",
              "      <td>1</td>\n",
              "    </tr>\n",
              "  </tbody>\n",
              "</table>\n",
              "<p>645 rows × 8 columns</p>\n",
              "</div>"
            ],
            "text/plain": [
              "           Município com acento  ... Postos_Vacinação\n",
              "153                     DIADEMA  ...               25\n",
              "590             TABOÃO DA SERRA  ...               21\n",
              "121                 CARAPICUÍBA  ...               17\n",
              "389                      OSASCO  ...               61\n",
              "547          SÃO CAETANO DO SUL  ...               21\n",
              "..                          ...  ...              ...\n",
              "372               NOVA CASTILHO  ...                1\n",
              "539  SANTO ANTÔNIO DO ARACANGUÁ  ...                3\n",
              "316                     LUTÉCIA  ...                1\n",
              "324             MARABÁ PAULISTA  ...                4\n",
              "245                    IPORANGA  ...                1\n",
              "\n",
              "[645 rows x 8 columns]"
            ]
          },
          "metadata": {
            "tags": []
          },
          "execution_count": 105
        }
      ]
    },
    {
      "cell_type": "code",
      "metadata": {
        "id": "-JZeBJzEUmCE"
      },
      "source": [
        "#Selecionando cidades que serão analisadas (cidades próximas uma das outras)\n",
        "cps = np.where( (ibge['Município com acento'] == 'CAMPINAS').values==True)[0]\n",
        "pira = np.where( (ibge['Município com acento'] == 'PIRACICABA').values==True)[0]\n",
        "inda = np.where( (ibge['Município com acento'] == 'INDAIATUBA').values==True)[0]\n",
        "\n",
        "#Cidades com populações próximas de Campinas (1.08 Milhões)\n",
        "dia = np.where( (ibge['Município com acento'] == 'DIADEMA').values==True)[0]\n",
        "ts = np.where( (ibge['Município com acento'] == 'TABOÃO DA SERRA').values==True)[0]\n",
        "car = np.where( (ibge['Município com acento'] == 'CARAPICUÍBA').values==True)[0]\n",
        "os = np.where( (ibge['Município com acento'] == 'OSASCO').values==True)[0]\n",
        "ss = np.where( (ibge['Município com acento'] == 'SÃO CAETANO DO SUL').values==True)[0]"
      ],
      "execution_count": null,
      "outputs": []
    },
    {
      "cell_type": "code",
      "metadata": {
        "colab": {
          "base_uri": "https://localhost:8080/"
        },
        "id": "SEqcuKjPW4S4",
        "outputId": "3321d314-5021-4019-88ee-2178931b7ec6"
      },
      "source": [
        "print(\"Cidades de mesma região;\")\n",
        "cluster_cps1 = kmeans20.labels_[cps]\n",
        "print(\"Campinas (2 atributos com k=20):\", cluster_cps1[0])\n",
        "cluster_cps2 = kmeans50.labels_[cps]\n",
        "print(\"Campinas (2 atributos com k=50):\", cluster_cps2[0])\n",
        "cluster_cps3 = kmeans20_2.labels_[cps]\n",
        "print(\"Campinas (6 atributos com k=20):\", cluster_cps3[0])\n",
        "cluster_cps4 = kmeans50_2.labels_[cps]\n",
        "print(\"Campinas (6 atributos com k=50):\", cluster_cps4[0])\n",
        "cluster_pira1 = kmeans20.labels_[pira]\n",
        "print(\"Piracicaba (2 atributos com k=20):\", cluster_pira1[0])\n",
        "cluster_pira2 = kmeans50.labels_[pira]\n",
        "print(\"Piracicaba (2 atributos com k=50):\", cluster_pira2[0])\n",
        "cluster_pira3 = kmeans20_2.labels_[pira]\n",
        "print(\"Piracicaba (6 atributos com k=20):\", cluster_pira3[0])\n",
        "cluster_pira4 = kmeans50_2.labels_[pira]\n",
        "print(\"Piracicaba (6 atributos com k=50):\", cluster_pira4[0])\n",
        "cluster_inda1 = kmeans20.labels_[inda]\n",
        "print(\"Indaiatuba (2 atributos com k=20):\", cluster_inda1[0])\n",
        "cluster_inda2 = kmeans50.labels_[inda]\n",
        "print(\"Indaiatuba (2 atributos com k=50):\", cluster_inda2[0])\n",
        "cluster_inda3 = kmeans20_2.labels_[inda]\n",
        "print(\"Indaiatuba (6 atributos com k=20):\", cluster_inda3[0])\n",
        "cluster_inda4 = kmeans50_2.labels_[inda]\n",
        "print(\"Indaiatuba (6 atributos com k=50):\", cluster_inda4[0])\n",
        "pos20 = [cluster_cps1[0], cluster_pira1[0], cluster_inda1[0]]\n",
        "pos50 = [cluster_cps2[0], cluster_pira2[0], cluster_inda2[0]]\n",
        "pos20_2 = [cluster_cps3[0], cluster_pira3[0], cluster_inda3[0]]\n",
        "pos50_2 = [cluster_cps4[0], cluster_pira4[0], cluster_inda4[0]]\n",
        "cidades2 = ['Campinas', 'Piracicaba', 'Indaiatuba']"
      ],
      "execution_count": null,
      "outputs": [
        {
          "output_type": "stream",
          "text": [
            "Cidades de mesma região;\n",
            "Campinas (2 atributos com k=20): 9\n",
            "Campinas (2 atributos com k=50): 23\n",
            "Campinas (6 atributos com k=20): 17\n",
            "Campinas (6 atributos com k=50): 30\n",
            "Piracicaba (2 atributos com k=20): 17\n",
            "Piracicaba (2 atributos com k=50): 16\n",
            "Piracicaba (6 atributos com k=20): 14\n",
            "Piracicaba (6 atributos com k=50): 31\n",
            "Indaiatuba (2 atributos com k=20): 15\n",
            "Indaiatuba (2 atributos com k=50): 37\n",
            "Indaiatuba (6 atributos com k=20): 16\n",
            "Indaiatuba (6 atributos com k=50): 48\n"
          ],
          "name": "stdout"
        }
      ]
    },
    {
      "cell_type": "code",
      "metadata": {
        "colab": {
          "base_uri": "https://localhost:8080/"
        },
        "id": "RawvhQ2CYg5x",
        "outputId": "b6bf9a48-a008-4ba1-9ca8-df4ef1dbb9b7"
      },
      "source": [
        "print('Cidades com densidades demográficas próximas;')\n",
        "cluster_dia1 = kmeans20.labels_[dia]\n",
        "print(\"Diadema (2 atributos com k=20):\", cluster_dia1[0])\n",
        "cluster_dia2 = kmeans50.labels_[dia]\n",
        "print(\"Diadema (2 atributos com k=50):\", cluster_dia2[0])\n",
        "cluster_dia3 = kmeans20_2.labels_[dia]\n",
        "print(\"Diadema (6 atributos com k=20):\", cluster_dia3[0])\n",
        "cluster_dia4 = kmeans50_2.labels_[dia]\n",
        "print(\"Diadema (6 atributos com k=50):\", cluster_dia4[0])\n",
        "cluster_ts1 = kmeans20.labels_[ts]\n",
        "print(\"Taboão da Serra (2 atributos com k=20):\", cluster_ts1[0])\n",
        "cluster_ts2 = kmeans50.labels_[ts]\n",
        "print(\"Taboão da Serra (2 atributos com k=50):\", cluster_ts2[0])\n",
        "cluster_ts3 = kmeans20_2.labels_[ts]\n",
        "print(\"Taboão da Serra (6 atributos com k=20):\", cluster_ts3[0])\n",
        "cluster_ts4 = kmeans50_2.labels_[ts]\n",
        "print(\"Taboão da Serra (6 atributos com k=50):\", cluster_ts4[0])\n",
        "cluster_car1 = kmeans20.labels_[car]\n",
        "print(\"Carapicuíba (2 atributos com k=20):\", cluster_car1[0])\n",
        "cluster_car2 = kmeans50.labels_[car]\n",
        "print(\"Carapicuíba (2 atributos com k=50):\", cluster_car2[0])\n",
        "cluster_car3 = kmeans20_2.labels_[car]\n",
        "print(\"Carapicuíba (6 atributos com k=20):\", cluster_car3[0])\n",
        "cluster_car4 = kmeans50_2.labels_[car]\n",
        "print(\"Carapicuíba (6 atributos com k=50):\", cluster_car4[0])\n",
        "cluster_os1 = kmeans20.labels_[os]\n",
        "print(\"Osasco (2 atributos com k=20):\", cluster_os1[0])\n",
        "cluster_os2 = kmeans50.labels_[os]\n",
        "print(\"Osasco (2 atributos com k=50):\", cluster_os2[0])\n",
        "cluster_os3 = kmeans20_2.labels_[os]\n",
        "print(\"Osasco (6 atributos com k=20):\", cluster_os3[0])\n",
        "cluster_os4 = kmeans50_2.labels_[os]\n",
        "print(\"Osasco (6 atributos com k=50):\", cluster_os4[0])\n",
        "cluster_ss1 = kmeans20.labels_[ss]\n",
        "print(\"São Caetano do Sul (2 atributos com k=20):\", cluster_ss1[0])\n",
        "cluster_ss2 = kmeans50.labels_[ss]\n",
        "print(\"São Caetano do Sul (2 atributos com k=50):\", cluster_ss2[0])\n",
        "cluster_ss3 = kmeans20_2.labels_[ss]\n",
        "print(\"São Caetano do Sul (6 atributos com k=20):\", cluster_ss3[0])\n",
        "cluster_ss4 = kmeans50_2.labels_[ss]\n",
        "print(\"São Caetano do Sul (6 atributos com k=50):\", cluster_ss4[0])\n",
        "posk20 = [cluster_dia1[0], cluster_ts1[0], cluster_car1[0], cluster_os1[0], cluster_ss1[0]]\n",
        "posk50 = [cluster_dia2[0], cluster_ts2[0], cluster_car2[0], cluster_os2[0], cluster_ss2[0]]\n",
        "posk20_2 = [cluster_dia3[0], cluster_ts3[0], cluster_car3[0], cluster_os3[0], cluster_ss3[0]]\n",
        "posk50_2 = [cluster_dia4[0], cluster_ts4[0], cluster_car4[0], cluster_os4[0], cluster_ss4[0]]\n",
        "cidades = ['Diadema', 'Taboão da Serra', 'Carapicuíba', 'Osasco', 'São Caetano do Sul']"
      ],
      "execution_count": null,
      "outputs": [
        {
          "output_type": "stream",
          "text": [
            "Cidades com densidades demográficas próximas;\n",
            "Diadema (2 atributos com k=20): 13\n",
            "Diadema (2 atributos com k=50): 14\n",
            "Diadema (6 atributos com k=20): 3\n",
            "Diadema (6 atributos com k=50): 19\n",
            "Taboão da Serra (2 atributos com k=20): 13\n",
            "Taboão da Serra (2 atributos com k=50): 14\n",
            "Taboão da Serra (6 atributos com k=20): 3\n",
            "Taboão da Serra (6 atributos com k=50): 19\n",
            "Carapicuíba (2 atributos com k=20): 2\n",
            "Carapicuíba (2 atributos com k=50): 33\n",
            "Carapicuíba (6 atributos com k=20): 3\n",
            "Carapicuíba (6 atributos com k=50): 41\n",
            "Osasco (2 atributos com k=20): 2\n",
            "Osasco (2 atributos com k=50): 33\n",
            "Osasco (6 atributos com k=20): 3\n",
            "Osasco (6 atributos com k=50): 41\n",
            "São Caetano do Sul (2 atributos com k=20): 2\n",
            "São Caetano do Sul (2 atributos com k=50): 5\n",
            "São Caetano do Sul (6 atributos com k=20): 3\n",
            "São Caetano do Sul (6 atributos com k=50): 4\n"
          ],
          "name": "stdout"
        }
      ]
    },
    {
      "cell_type": "code",
      "metadata": {
        "colab": {
          "base_uri": "https://localhost:8080/",
          "height": 265
        },
        "id": "zHVXyy8VbI_g",
        "outputId": "a062e6c2-dd3e-42d8-fc9e-cf0555db86ec"
      },
      "source": [
        "import matplotlib.pyplot as plt\n",
        "#Cluster de cidades da mesma região quando utilizamos 2 atributos e k=20\n",
        "plt.scatter(cidades2, pos20)\n",
        "plt.show()"
      ],
      "execution_count": null,
      "outputs": [
        {
          "output_type": "display_data",
          "data": {
            "image/png": "[encoded data removed]",
            "text/plain": [
              "<Figure size 432x288 with 1 Axes>"
            ]
          },
          "metadata": {
            "tags": [],
            "needs_background": "light"
          }
        }
      ]
    },
    {
      "cell_type": "code",
      "metadata": {
        "colab": {
          "base_uri": "https://localhost:8080/",
          "height": 265
        },
        "id": "W9ShYrbxb0Ds",
        "outputId": "220b060d-e545-467b-8365-27fa49411677"
      },
      "source": [
        "#Cluster de cidades da mesma região quando utilizamos 2 atributos e k=50\n",
        "plt.scatter(cidades2, pos50)\n",
        "plt.show()"
      ],
      "execution_count": null,
      "outputs": [
        {
          "output_type": "display_data",
          "data": {
            "image/png": "[encoded data removed]",
            "text/plain": [
              "<Figure size 432x288 with 1 Axes>"
            ]
          },
          "metadata": {
            "tags": [],
            "needs_background": "light"
          }
        }
      ]
    },
    {
      "cell_type": "code",
      "metadata": {
        "colab": {
          "base_uri": "https://localhost:8080/",
          "height": 265
        },
        "id": "hsbvl6_0b_Sf",
        "outputId": "2dcf5793-7c57-429c-aba6-209675c87437"
      },
      "source": [
        "#Cluster de cidades da mesma região quando utilizamos 6 atributos e k=20\n",
        "plt.scatter(cidades2, pos20_2)\n",
        "plt.show()"
      ],
      "execution_count": null,
      "outputs": [
        {
          "output_type": "display_data",
          "data": {
            "image/png": "[encoded data removed]",
            "text/plain": [
              "<Figure size 432x288 with 1 Axes>"
            ]
          },
          "metadata": {
            "tags": [],
            "needs_background": "light"
          }
        }
      ]
    },
    {
      "cell_type": "code",
      "metadata": {
        "colab": {
          "base_uri": "https://localhost:8080/",
          "height": 265
        },
        "id": "YtKkzJiqcCw1",
        "outputId": "eb93f0ef-0df4-4f92-fb81-bf418bc0b5e9"
      },
      "source": [
        "#Cluster de cidades da mesma região quando utilizamos 6 atributos e k=50\n",
        "plt.scatter(cidades2, pos50_2)\n",
        "plt.show()"
      ],
      "execution_count": null,
      "outputs": [
        {
          "output_type": "display_data",
          "data": {
            "image/png": "[encoded data removed]",
            "text/plain": [
              "<Figure size 432x288 with 1 Axes>"
            ]
          },
          "metadata": {
            "tags": [],
            "needs_background": "light"
          }
        }
      ]
    },
    {
      "cell_type": "code",
      "metadata": {
        "colab": {
          "base_uri": "https://localhost:8080/",
          "height": 266
        },
        "id": "FhA8BD88ad9Z",
        "outputId": "2c41ed68-a287-40c1-852c-5204a0c20acb"
      },
      "source": [
        "#Cluster de cidades com populações próximas quando utilizamos 2 atributos e k=20\n",
        "plt.scatter(cidades, posk20)\n",
        "plt.show()"
      ],
      "execution_count": null,
      "outputs": [
        {
          "output_type": "display_data",
          "data": {
            "image/png": "[encoded data removed]",
            "text/plain": [
              "<Figure size 432x288 with 1 Axes>"
            ]
          },
          "metadata": {
            "tags": [],
            "needs_background": "light"
          }
        }
      ]
    },
    {
      "cell_type": "code",
      "metadata": {
        "colab": {
          "base_uri": "https://localhost:8080/",
          "height": 266
        },
        "id": "jJfdWFZuajZD",
        "outputId": "9cd439fc-102b-4918-a508-ad271e9fa345"
      },
      "source": [
        "#Cluster de cidades com populações próximas quando utilizamos 2 atributos e k=50\n",
        "plt.scatter(cidades, posk50)\n",
        "plt.show()"
      ],
      "execution_count": null,
      "outputs": [
        {
          "output_type": "display_data",
          "data": {
            "image/png": "[encoded data removed]",
            "text/plain": [
              "<Figure size 432x288 with 1 Axes>"
            ]
          },
          "metadata": {
            "tags": [],
            "needs_background": "light"
          }
        }
      ]
    },
    {
      "cell_type": "code",
      "metadata": {
        "colab": {
          "base_uri": "https://localhost:8080/",
          "height": 266
        },
        "id": "eJoX3QIAbA3n",
        "outputId": "2bf5f585-4b00-4cc2-8782-1c3ebeb435c0"
      },
      "source": [
        "#Cluster de cidades com populações próximas quando utilizamos 6 atributos e k=20\n",
        "plt.scatter(cidades, posk20_2)\n",
        "plt.show()"
      ],
      "execution_count": null,
      "outputs": [
        {
          "output_type": "display_data",
          "data": {
            "image/png": "[encoded data removed]",
            "text/plain": [
              "<Figure size 432x288 with 1 Axes>"
            ]
          },
          "metadata": {
            "tags": [],
            "needs_background": "light"
          }
        }
      ]
    },
    {
      "cell_type": "code",
      "metadata": {
        "colab": {
          "base_uri": "https://localhost:8080/",
          "height": 266
        },
        "id": "B7AsSd4WbGf1",
        "outputId": "772953c0-aed6-4566-f77f-a67b77e236a0"
      },
      "source": [
        "#Cluster de cidades com populações próximas quando utilizamos 6 atributos e k=50\n",
        "plt.scatter(cidades, posk50_2)\n",
        "plt.show()"
      ],
      "execution_count": null,
      "outputs": [
        {
          "output_type": "display_data",
          "data": {
            "image/png": "[encoded data removed]",
            "text/plain": [
              "<Figure size 432x288 with 1 Axes>"
            ]
          },
          "metadata": {
            "tags": [],
            "needs_background": "light"
          }
        }
      ]
    }
  ]
}