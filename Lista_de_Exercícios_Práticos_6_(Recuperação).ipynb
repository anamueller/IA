{
  "nbformat": 4,
  "nbformat_minor": 0,
  "metadata": {
    "colab": {
      "name": "Lista de Exercícios Práticos 6 (Recuperação).ipynb",
      "provenance": [],
      "collapsed_sections": [],
      "authorship_tag": "ABX9TyNSajnIkdmdW6zCQCxCATH4",
      "include_colab_link": true
    },
    "kernelspec": {
      "name": "python3",
      "display_name": "Python 3"
    },
    "language_info": {
      "name": "python"
    }
  },
  "cells": [
    {
      "cell_type": "markdown",
      "metadata": {
        "id": "view-in-github",
        "colab_type": "text"
      },
      "source": [
        "<a href=\"https://colab.research.google.com/github/anamueller/IA/blob/main/Lista_de_Exerc%C3%ADcios_Pr%C3%A1ticos_6_(Recupera%C3%A7%C3%A3o).ipynb\" target=\"_parent\"><img src=\"https://colab.research.google.com/assets/colab-badge.svg\" alt=\"Open In Colab\"/></a>"
      ]
    },
    {
      "cell_type": "markdown",
      "metadata": {
        "id": "mNKrIwDoYtvU"
      },
      "source": [
        "Ana Clara Mueller Miranda"
      ]
    },
    {
      "cell_type": "markdown",
      "metadata": {
        "id": "O2oNlfziYy4X"
      },
      "source": [
        "RA: 148806\n"
      ]
    },
    {
      "cell_type": "code",
      "metadata": {
        "colab": {
          "base_uri": "https://localhost:8080/"
        },
        "id": "vCJHV9e8ETj9",
        "outputId": "e03973c1-61bf-4ff5-b705-67952d2a918e"
      },
      "source": [
        "import pandas as pd\n",
        "import numpy as np\n",
        "from sklearn import preprocessing\n",
        "from sklearn.cluster import KMeans\n",
        "from google.colab import drive\n",
        "from sklearn.model_selection import train_test_split\n",
        "from sklearn.metrics import average_precision_score\n",
        "drive.mount('/content/drive')"
      ],
      "execution_count": null,
      "outputs": [
        {
          "output_type": "stream",
          "text": [
            "Drive already mounted at /content/drive; to attempt to forcibly remount, call drive.mount(\"/content/drive\", force_remount=True).\n"
          ],
          "name": "stdout"
        }
      ]
    },
    {
      "cell_type": "code",
      "metadata": {
        "id": "Bqr4CAJtGJ48"
      },
      "source": [
        "ibge = pd.read_csv(\"/content/drive/MyDrive/ibge_completo.csv\")"
      ],
      "execution_count": null,
      "outputs": []
    },
    {
      "cell_type": "code",
      "metadata": {
        "id": "B519V67dGKWC"
      },
      "source": [
        "#dados escalados utilizando 6 atributos\n",
        "min_max_scaler = preprocessing.MinMaxScaler(feature_range=(0, 1))\n",
        "escalado = ibge.iloc[:, 2:8].values\n",
        "escalado = min_max_scaler.fit_transform(escalado)"
      ],
      "execution_count": null,
      "outputs": []
    },
    {
      "cell_type": "code",
      "metadata": {
        "colab": {
          "base_uri": "https://localhost:8080/"
        },
        "id": "PI8WvCCGGx6p",
        "outputId": "dccf2409-4416-4a3d-c866-bfb9a46d8000"
      },
      "source": [
        "kmeans = KMeans(n_clusters=20, random_state=0).fit(escalado)\n",
        "relevancia = kmeans.labels_\n",
        "print(relevancia)"
      ],
      "execution_count": null,
      "outputs": [
        {
          "output_type": "stream",
          "text": [
            "[ 7  9  7  1  1  7 13  5  1  1 16  5 16  1 16 16  1  1 18  1  9 10 16  5\n",
            "  5  8 16  1  9  5  1 14  9  9 16  1  5  8  9  0 16  1  1  9 13  1  7 10\n",
            "  7  0 16 14  1  1  1  0  1  9  7  1  7  5  2  1  6  9  5  8  8 16  9  7\n",
            "  1  0 16  8 16  8  9  1  1  1  1  0 16  2  0  9  1 16 14 14 16  9  9  9\n",
            " 10 16  7  5  9 13  0 13  7  9  8  9 17 13 16  7 14  1  0  1  1  2  9 16\n",
            "  7  3  0  5  9  5 16  1  9  0  1  9  9  9  1  7  8  9  7  1  9 16 16  1\n",
            "  7 16 16  7  1 16 13  2  8  3  1  9  1  0  1  9  7  9  1  0  2  9  1  1\n",
            "  6  1  9  1  7  9  1 16  9  0  7  1  0  1 11  9  9  0  9  0  6 13  1 16\n",
            "  0  9  9  7  8 16 16  9 14 16 10 16  0  0  1  7  5 16  8  0 16 18 15  7\n",
            "  9 16  1  6  0 16  7 16 16  9  8 12 16  0  1  7 16 19  9  8 16 16  1 16\n",
            "  1  9  9  9  1 14  7  1  9  9 14 14  0  9  0  9 13 19 19  6  0  7  5  0\n",
            "  1 16  6  5 16 10  5  0  1  1  8  9  8 16  8  7  1  8  1 16  9 11  0  9\n",
            "  8  1 16  7  5  1  1 10  0  8  0  9  7  0  1  7  8  0  1  0  7  1 13 16\n",
            "  9  0  1  1  7  9  9 16 16  9 10  9  5  0  1  9 14  1 14  0 11  9  9  1\n",
            "  8  9  9  5  5 14  9  1  5 17  8  0  1  1  1  1 16  7  9  9  9 16  2  1\n",
            "  9  9 16 16  8 16  9  7  1  9  7  1  9  1  0  1  9  1 13  1  5 16 16  9\n",
            "  8  9  9  9 16  3  9  9 16  9 16 16  8  1 16  0 16  5  8  1  5  1 16  9\n",
            " 16  1  0 16 13  9  8  8  1  9  8  1  1  8  8  5  9 16  9 17  8  8  9  1\n",
            "  7  9  7 14  0  8  9  1  7  8  7  7 16 16 11  1  8  9 16  9  9 16  9  0\n",
            "  9 13 16  1  1 18  9 16  8 14  0  8  8  9  8  9  9 16  1  2 16  9  7  8\n",
            "  9 16  7  8  1  9  9 16 13  8  1 16 16  0  9 13  0  7  8  1  9  9 16  1\n",
            " 16 16  7  1  1 13 16  9  7 16 16 16 16  9  1  1 16 14  1  9  1 10  1  9\n",
            "  1  9  8 16  1  1 13  0  6 16  1 14  1  1  1  1 18  9 10  3 14  1  0  1\n",
            "  9  1  7 16  0  7 10 14  9  0  8  5  4  0  8 16  7  9  0 18 16  1  1 16\n",
            "  9  1  7  5  1  7 10 10  0 18 16 18 16 16  3  0  1  1  1  0  8  8  9  1\n",
            "  0  7  9  9 16  0  0 16  2  9  7  9  1 16  1  9  1  1  0  9  1  1  9  8\n",
            " 16  9  1  9  1 16  1 13  5  1  9 13  6  9 13  9  1  1 13  7 16]\n"
          ],
          "name": "stdout"
        }
      ]
    },
    {
      "cell_type": "code",
      "metadata": {
        "id": "Tu1I8MQ5cAPV"
      },
      "source": [
        "#achando cidades são josé dos campos e são roque\n",
        "sjc = np.where( (ibge['Município com acento'] == 'SÃO JOSÉ DOS CAMPOS').values==True)[0]\n",
        "sr = np.where( (ibge['Município com acento'] == 'SÃO ROQUE').values==True)[0]"
      ],
      "execution_count": null,
      "outputs": []
    },
    {
      "cell_type": "code",
      "metadata": {
        "id": "oTI3qwFbc-GR"
      },
      "source": [
        "#cidades similares com base na distância euclidiana\n",
        "cluster_sjc = kmeans.labels_[sjc]\n",
        "cluster_sr = kmeans.labels_[sr]\n",
        "cidades_similares_sjc = np.where( kmeans.labels_ == cluster_sjc)\n",
        "cidades_similares_sr = np.where( kmeans.labels_ == cluster_sr)\n",
        "nomes_cidades_similares_sjc = ibge['Município com acento'][cidades_similares_sjc[0]]\n",
        "nomes_cidades_similares_sr = ibge['Município com acento'][cidades_similares_sr[0]]"
      ],
      "execution_count": null,
      "outputs": []
    },
    {
      "cell_type": "code",
      "metadata": {
        "colab": {
          "base_uri": "https://localhost:8080/"
        },
        "id": "2pKuWG71dEAL",
        "outputId": "7f5c7364-1043-4d5d-e911-3c28ab157566"
      },
      "source": [
        "print(\"São José dos Campos\")\n",
        "print(\"Posições das cidades similares: \\n\", cidades_similares_sjc)\n",
        "print(\"Nomes das cidades similares: \\n\", nomes_cidades_similares_sjc)"
      ],
      "execution_count": null,
      "outputs": [
        {
          "output_type": "stream",
          "text": [
            "São José dos Campos\n",
            "Posições das cidades similares: \n",
            " (array([ 31,  51,  90,  91, 112, 200, 245, 250, 251, 328, 330, 341, 435,\n",
            "       465, 521, 539, 548, 559]),)\n",
            "Nomes das cidades similares: \n",
            " 31                      ARAÇATUBA\n",
            "51                          AVARÉ\n",
            "90                         BROTAS\n",
            "91                           BURI\n",
            "112                      CANANÉIA\n",
            "200                        GUAÍRA\n",
            "245                      IPORANGA\n",
            "250                       ITABERÁ\n",
            "251                          ITAÍ\n",
            "328                       MARÍLIA\n",
            "330                  MARTINÓPOLIS\n",
            "341       MIRANTE DO PARANAPANEMA\n",
            "435                    PIRACICABA\n",
            "465           PRESIDENTE EPITÁCIO\n",
            "521       SANTA CRUZ DO RIO PARDO\n",
            "539    SANTO ANTÔNIO DO ARACANGUÁ\n",
            "548                    SÃO CARLOS\n",
            "559           SÃO JOSÉ DOS CAMPOS\n",
            "Name: Município com acento, dtype: object\n"
          ],
          "name": "stdout"
        }
      ]
    },
    {
      "cell_type": "code",
      "metadata": {
        "colab": {
          "base_uri": "https://localhost:8080/"
        },
        "id": "vw4eaT3Td3s1",
        "outputId": "4f4e6178-7015-4211-9de7-8c7dd990fd40"
      },
      "source": [
        "print(\"São Roque\")\n",
        "print(\"Posições das cidades similares:\\n\", cidades_similares_sr)\n",
        "print(\"Nomes das cidades similares:\\n\", nomes_cidades_similares_sr)"
      ],
      "execution_count": null,
      "outputs": [
        {
          "output_type": "stream",
          "text": [
            "São Roque\n",
            "Posições das cidades similares:\n",
            " (array([ 10,  12,  14,  15,  22,  26,  34,  40,  50,  69,  74,  76,  84,\n",
            "        89,  92,  97, 110, 119, 126, 141, 142, 145, 146, 149, 175, 191,\n",
            "       197, 198, 201, 203, 209, 212, 217, 221, 223, 224, 228, 232, 236,\n",
            "       237, 239, 265, 268, 277, 283, 290, 311, 319, 320, 352, 357, 362,\n",
            "       363, 365, 381, 382, 388, 392, 394, 395, 398, 400, 406, 408, 411,\n",
            "       425, 444, 445, 450, 453, 458, 463, 473, 476, 481, 487, 491, 492,\n",
            "       502, 504, 505, 510, 513, 514, 515, 516, 520, 531, 537, 555, 567,\n",
            "       572, 575, 586, 588, 589, 604, 607, 613, 624, 629, 644]),)\n",
            "Nomes das cidades similares:\n",
            " 10               ALTAIR\n",
            "12          ALTO ALEGRE\n",
            "14     ÁLVARES FLORENCE\n",
            "15      ÁLVARES MACHADO\n",
            "22            ANALÂNDIA\n",
            "             ...       \n",
            "607              TEJUPÁ\n",
            "613            TORRINHA\n",
            "624           UBIRAJARA\n",
            "629              URUPÊS\n",
            "644            ZACARIAS\n",
            "Name: Município com acento, Length: 102, dtype: object\n"
          ],
          "name": "stdout"
        }
      ]
    },
    {
      "cell_type": "code",
      "metadata": {
        "id": "tjr25IdLebwr"
      },
      "source": [
        "ibge[['População 2010','Urbana','Rural','Área totalKm2','Densidade demográficaHab./Km2', 'Postos_Vacinação']]= min_max_scaler.fit_transform(ibge[['População 2010','Urbana','Rural','Área totalKm2','Densidade demográficaHab./Km2', 'Postos_Vacinação']])\n",
        "y = ibge['Postos_Vacinação']\n",
        "x = ibge.drop(['Postos_Vacinação', 'Município com acento', 'Regiao'], axis=1)"
      ],
      "execution_count": null,
      "outputs": []
    },
    {
      "cell_type": "code",
      "metadata": {
        "id": "ENG1W8w9Dyk1"
      },
      "source": [
        "x_train, x_test, y_train, y_test = train_test_split(x,y, test_size= 0.25, random_state=29)"
      ],
      "execution_count": null,
      "outputs": []
    },
    {
      "cell_type": "code",
      "metadata": {
        "id": "gSFUNFKaUTfC"
      },
      "source": [
        "average_precision = average_precision_score(x, x_test)"
      ],
      "execution_count": null,
      "outputs": []
    }
  ]
}